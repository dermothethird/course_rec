{
 "cells": [
  {
   "cell_type": "markdown",
   "metadata": {},
   "source": [
    "# Employee Training Course Recommendation System\n",
    "\n",
    "**Authors:** Dermot O'Brien\n",
    "***"
   ]
  },
  {
   "cell_type": "markdown",
   "metadata": {},
   "source": [
    "## Overview\n",
    "\n",
    "HR places significant emphasis on identifying suitable training and development initiatives tailored to each individual employee.\n",
    "\n",
    "The provision of training is essential to help employees fill their skill gaps, not only for their present roles but also to prepare them for future advancements. Investing in training and development greatly contributes to boosting self-assurance and overall job contentment among employees, ultimately leading to a decrease in employee turnover. HR departments must consistently analyze employees' skill gaps and implement ongoing training programs accordingly."
   ]
  },
  {
   "cell_type": "markdown",
   "metadata": {},
   "source": [
    "## Business Problem\n",
    "\n",
    "Sometimes it's not easy for an employee or manager to identify their own skill gaps, or which skills they should prioritize learning. In order to combat this, we will create a recommendation system that uses their past course ratings and the ratings of similar employees to offer the right courses to them."
   ]
  },
  {
   "cell_type": "markdown",
   "metadata": {},
   "source": [
    "## Data Understanding\n",
    "\n",
    "The dataset comprises employee ratings assigned to courses they completed in past corporate training programs. Each rating entry includes the employee's ID and name, along with the course ID and course name. The ratings are scored on a scale from one to five, with five denoting the highest rating.\n",
    "\n",
    "Our objective is to develop an algorithm capable of predicting the potential rating an employee might assign to a course they haven't yet undertaken. The underlying assumption is that if the employee finds the course relevant and fitting, they will tend to give a higher rating."
   ]
  },
  {
   "cell_type": "code",
   "execution_count": 1,
   "metadata": {},
   "outputs": [
    {
     "name": "stderr",
     "output_type": "stream",
     "text": [
      "2023-07-24 11:47:38.012249: I tensorflow/core/platform/cpu_feature_guard.cc:182] This TensorFlow binary is optimized to use available CPU instructions in performance-critical operations.\n",
      "To enable the following instructions: AVX2 FMA, in other operations, rebuild TensorFlow with the appropriate compiler flags.\n"
     ]
    }
   ],
   "source": [
    "# Import standard packages\n",
    "import pandas as pd\n",
    "import numpy as np\n",
    "import matplotlib.pyplot as plt\n",
    "from math import pi\n",
    "import seaborn as sns\n",
    "import os\n",
    "from sklearn.model_selection import train_test_split, GridSearchCV, cross_val_score\n",
    "from sklearn.pipeline import Pipeline\n",
    "from sklearn.preprocessing import MinMaxScaler, OneHotEncoder, FunctionTransformer, StandardScaler\n",
    "from sklearn.metrics import ConfusionMatrixDisplay, recall_score, precision_score, accuracy_score\n",
    "from sklearn.compose import ColumnTransformer\n",
    "from sklearn.dummy import DummyClassifier\n",
    "from sklearn.tree import DecisionTreeClassifier\n",
    "from sklearn.ensemble import RandomForestClassifier, GradientBoostingClassifier\n",
    "from sklearn.impute import MissingIndicator\n",
    "import xgboost as xgb\n",
    "from xgboost import plot_importance\n",
    "from imblearn.over_sampling import SMOTE\n",
    "from imblearn.pipeline import Pipeline as ImPipeline\n",
    "import tensorflow as tf\n",
    "from tensorflow.keras.layers import Input, Embedding, Flatten, Dot, Dense, Concatenate\n",
    "from tensorflow.keras.models import Model\n",
    "\n",
    "%matplotlib inline"
   ]
  },
  {
   "cell_type": "code",
   "execution_count": 2,
   "metadata": {},
   "outputs": [
    {
     "data": {
      "text/html": [
       "<div>\n",
       "<style scoped>\n",
       "    .dataframe tbody tr th:only-of-type {\n",
       "        vertical-align: middle;\n",
       "    }\n",
       "\n",
       "    .dataframe tbody tr th {\n",
       "        vertical-align: top;\n",
       "    }\n",
       "\n",
       "    .dataframe thead th {\n",
       "        text-align: right;\n",
       "    }\n",
       "</style>\n",
       "<table border=\"1\" class=\"dataframe\">\n",
       "  <thead>\n",
       "    <tr style=\"text-align: right;\">\n",
       "      <th></th>\n",
       "      <th>EmployeeID</th>\n",
       "      <th>EmpName</th>\n",
       "      <th>CourseID</th>\n",
       "      <th>CourseName</th>\n",
       "      <th>Rating</th>\n",
       "    </tr>\n",
       "  </thead>\n",
       "  <tbody>\n",
       "    <tr>\n",
       "      <th>0</th>\n",
       "      <td>1408</td>\n",
       "      <td>Ignace Ormonde</td>\n",
       "      <td>14</td>\n",
       "      <td>Video Production</td>\n",
       "      <td>3</td>\n",
       "    </tr>\n",
       "    <tr>\n",
       "      <th>1</th>\n",
       "      <td>1249</td>\n",
       "      <td>Gabriela Balcon</td>\n",
       "      <td>17</td>\n",
       "      <td>Translation</td>\n",
       "      <td>2</td>\n",
       "    </tr>\n",
       "    <tr>\n",
       "      <th>2</th>\n",
       "      <td>1158</td>\n",
       "      <td>Enrique Lewer</td>\n",
       "      <td>8</td>\n",
       "      <td>IT Architecture</td>\n",
       "      <td>3</td>\n",
       "    </tr>\n",
       "    <tr>\n",
       "      <th>3</th>\n",
       "      <td>1564</td>\n",
       "      <td>Wallie Byrd</td>\n",
       "      <td>18</td>\n",
       "      <td>Natural Language Processing</td>\n",
       "      <td>3</td>\n",
       "    </tr>\n",
       "    <tr>\n",
       "      <th>4</th>\n",
       "      <td>1334</td>\n",
       "      <td>Hannah Ganter</td>\n",
       "      <td>6</td>\n",
       "      <td>Java Programming</td>\n",
       "      <td>4</td>\n",
       "    </tr>\n",
       "  </tbody>\n",
       "</table>\n",
       "</div>"
      ],
      "text/plain": [
       "   EmployeeID          EmpName  CourseID                   CourseName  Rating\n",
       "0        1408   Ignace Ormonde        14             Video Production       3\n",
       "1        1249  Gabriela Balcon        17                  Translation       2\n",
       "2        1158    Enrique Lewer         8              IT Architecture       3\n",
       "3        1564      Wallie Byrd        18  Natural Language Processing       3\n",
       "4        1334    Hannah Ganter         6             Java Programming       4"
      ]
     },
     "execution_count": 2,
     "metadata": {},
     "output_type": "execute_result"
    }
   ],
   "source": [
    "# Import the data set\n",
    "ratings_df = pd.read_csv(\"./ratings_data.csv\")\n",
    "ratings_df.head()"
   ]
  },
  {
   "cell_type": "code",
   "execution_count": 3,
   "metadata": {},
   "outputs": [
    {
     "data": {
      "text/plain": [
       "(1000, 5)"
      ]
     },
     "execution_count": 3,
     "metadata": {},
     "output_type": "execute_result"
    }
   ],
   "source": [
    "# Check the shape\n",
    "ratings_df.shape"
   ]
  },
  {
   "cell_type": "code",
   "execution_count": 4,
   "metadata": {
    "scrolled": true
   },
   "outputs": [
    {
     "name": "stdout",
     "output_type": "stream",
     "text": [
      "<class 'pandas.core.frame.DataFrame'>\n",
      "RangeIndex: 1000 entries, 0 to 999\n",
      "Data columns (total 5 columns):\n",
      " #   Column      Non-Null Count  Dtype \n",
      "---  ------      --------------  ----- \n",
      " 0   EmployeeID  1000 non-null   int64 \n",
      " 1   EmpName     1000 non-null   object\n",
      " 2   CourseID    1000 non-null   int64 \n",
      " 3   CourseName  1000 non-null   object\n",
      " 4   Rating      1000 non-null   int64 \n",
      "dtypes: int64(3), object(2)\n",
      "memory usage: 39.2+ KB\n"
     ]
    }
   ],
   "source": [
    "# Check for nulls and dtypes\n",
    "ratings_df.info()"
   ]
  },
  {
   "cell_type": "code",
   "execution_count": 5,
   "metadata": {},
   "outputs": [
    {
     "data": {
      "text/plain": [
       "18    50\n",
       "22    47\n",
       "12    47\n",
       "3     46\n",
       "5     46\n",
       "2     45\n",
       "9     45\n",
       "14    44\n",
       "25    44\n",
       "11    44\n",
       "1     43\n",
       "16    43\n",
       "6     42\n",
       "20    40\n",
       "15    40\n",
       "24    39\n",
       "21    36\n",
       "13    36\n",
       "4     36\n",
       "17    33\n",
       "19    33\n",
       "7     32\n",
       "8     32\n",
       "10    30\n",
       "23    27\n",
       "Name: CourseID, dtype: int64"
      ]
     },
     "execution_count": 5,
     "metadata": {},
     "output_type": "execute_result"
    }
   ],
   "source": [
    "# perform a value counts to see frequencies of courses taken\n",
    "ratings_df.CourseID.value_counts()"
   ]
  },
  {
   "cell_type": "markdown",
   "metadata": {},
   "source": [
    "## Data Preparation"
   ]
  },
  {
   "cell_type": "markdown",
   "metadata": {},
   "source": [
    "Let's start by creating two data frames, unique lists of employees and courses"
   ]
  },
  {
   "cell_type": "code",
   "execution_count": 6,
   "metadata": {},
   "outputs": [
    {
     "name": "stdout",
     "output_type": "stream",
     "text": [
      "Total Employees:  638\n"
     ]
    },
    {
     "data": {
      "text/html": [
       "<div>\n",
       "<style scoped>\n",
       "    .dataframe tbody tr th:only-of-type {\n",
       "        vertical-align: middle;\n",
       "    }\n",
       "\n",
       "    .dataframe tbody tr th {\n",
       "        vertical-align: top;\n",
       "    }\n",
       "\n",
       "    .dataframe thead th {\n",
       "        text-align: right;\n",
       "    }\n",
       "</style>\n",
       "<table border=\"1\" class=\"dataframe\">\n",
       "  <thead>\n",
       "    <tr style=\"text-align: right;\">\n",
       "      <th></th>\n",
       "      <th>EmployeeID</th>\n",
       "      <th>EmpName</th>\n",
       "      <th>0</th>\n",
       "    </tr>\n",
       "  </thead>\n",
       "  <tbody>\n",
       "    <tr>\n",
       "      <th>392</th>\n",
       "      <td>1620</td>\n",
       "      <td>Antoinette Holleworth</td>\n",
       "      <td>6</td>\n",
       "    </tr>\n",
       "    <tr>\n",
       "      <th>34</th>\n",
       "      <td>1055</td>\n",
       "      <td>Teddie Lutwidge</td>\n",
       "      <td>5</td>\n",
       "    </tr>\n",
       "    <tr>\n",
       "      <th>627</th>\n",
       "      <td>1983</td>\n",
       "      <td>Yolane Braun</td>\n",
       "      <td>5</td>\n",
       "    </tr>\n",
       "    <tr>\n",
       "      <th>19</th>\n",
       "      <td>1029</td>\n",
       "      <td>Kattie Tenbrug</td>\n",
       "      <td>5</td>\n",
       "    </tr>\n",
       "    <tr>\n",
       "      <th>601</th>\n",
       "      <td>1948</td>\n",
       "      <td>Bev Vagg</td>\n",
       "      <td>5</td>\n",
       "    </tr>\n",
       "  </tbody>\n",
       "</table>\n",
       "</div>"
      ],
      "text/plain": [
       "     EmployeeID                EmpName  0\n",
       "392        1620  Antoinette Holleworth  6\n",
       "34         1055        Teddie Lutwidge  5\n",
       "627        1983           Yolane Braun  5\n",
       "19         1029         Kattie Tenbrug  5\n",
       "601        1948               Bev Vagg  5"
      ]
     },
     "execution_count": 6,
     "metadata": {},
     "output_type": "execute_result"
    }
   ],
   "source": [
    "# Build list of unique Employees\n",
    "emp_list = ratings_df.groupby(\n",
    "            ['EmployeeID', 'EmpName']).size().reset_index()\n",
    "print(\"Total Employees: \", len(emp_list))\n",
    "emp_list.sort_values(by=0, ascending=False).head()"
   ]
  },
  {
   "cell_type": "code",
   "execution_count": 7,
   "metadata": {},
   "outputs": [
    {
     "name": "stdout",
     "output_type": "stream",
     "text": [
      "Total Courses:  25\n"
     ]
    },
    {
     "data": {
      "text/html": [
       "<div>\n",
       "<style scoped>\n",
       "    .dataframe tbody tr th:only-of-type {\n",
       "        vertical-align: middle;\n",
       "    }\n",
       "\n",
       "    .dataframe tbody tr th {\n",
       "        vertical-align: top;\n",
       "    }\n",
       "\n",
       "    .dataframe thead th {\n",
       "        text-align: right;\n",
       "    }\n",
       "</style>\n",
       "<table border=\"1\" class=\"dataframe\">\n",
       "  <thead>\n",
       "    <tr style=\"text-align: right;\">\n",
       "      <th></th>\n",
       "      <th>CourseID</th>\n",
       "      <th>CourseName</th>\n",
       "      <th>0</th>\n",
       "    </tr>\n",
       "  </thead>\n",
       "  <tbody>\n",
       "    <tr>\n",
       "      <th>17</th>\n",
       "      <td>18</td>\n",
       "      <td>Natural Language Processing</td>\n",
       "      <td>50</td>\n",
       "    </tr>\n",
       "    <tr>\n",
       "      <th>11</th>\n",
       "      <td>12</td>\n",
       "      <td>People Management</td>\n",
       "      <td>47</td>\n",
       "    </tr>\n",
       "    <tr>\n",
       "      <th>21</th>\n",
       "      <td>22</td>\n",
       "      <td>Animation</td>\n",
       "      <td>47</td>\n",
       "    </tr>\n",
       "    <tr>\n",
       "      <th>2</th>\n",
       "      <td>3</td>\n",
       "      <td>Data Management</td>\n",
       "      <td>46</td>\n",
       "    </tr>\n",
       "    <tr>\n",
       "      <th>4</th>\n",
       "      <td>5</td>\n",
       "      <td>HelpDesk</td>\n",
       "      <td>46</td>\n",
       "    </tr>\n",
       "  </tbody>\n",
       "</table>\n",
       "</div>"
      ],
      "text/plain": [
       "    CourseID                   CourseName   0\n",
       "17        18  Natural Language Processing  50\n",
       "11        12            People Management  47\n",
       "21        22                    Animation  47\n",
       "2          3              Data Management  46\n",
       "4          5                     HelpDesk  46"
      ]
     },
     "execution_count": 7,
     "metadata": {},
     "output_type": "execute_result"
    }
   ],
   "source": [
    "# Build list of unique Courses\n",
    "course_list = ratings_df.groupby(\n",
    "                ['CourseID', 'CourseName']).size().reset_index()\n",
    "print(\"Total Courses: \", len(course_list))\n",
    "course_list.sort_values(by=0, ascending=False).head()"
   ]
  },
  {
   "cell_type": "markdown",
   "metadata": {},
   "source": [
    "### Prepare Embedings"
   ]
  },
  {
   "cell_type": "code",
   "execution_count": 8,
   "metadata": {},
   "outputs": [],
   "source": [
    "# build employee embedding vector\n",
    "# we are using IDs as the direct index to embedding\n",
    "# since IDs are continous, we dont need ID-name mapping\n",
    "# we can also build a vocabulary alternative\n",
    "\n",
    "emp_input = Input(shape=[1], name='Emp-Input')\n",
    "emp_embed = Embedding(2001,\n",
    "                     5,\n",
    "                     name=\"Emp-Embedding\")(emp_input)\n",
    "emp_vec = Flatten(name='Emp-Flatten')(emp_embed)\n",
    "\n",
    "# build course embedding vector\n",
    "course_input = Input(shape=[1], name='Course-Input')\n",
    "course_embed = Embedding(len(course_list) +1,\n",
    "                        5,\n",
    "                        name='Course-Embedding')(course_input)\n",
    "course_vec = Flatten(name='Course-Flatten')(course_embed)\n",
    "\n",
    "# merge the vectors\n",
    "merged_vec = Concatenate()([emp_vec, course_vec])"
   ]
  },
  {
   "cell_type": "markdown",
   "metadata": {},
   "source": [
    "## Building Keras Model"
   ]
  },
  {
   "cell_type": "markdown",
   "metadata": {},
   "source": [
    "The recommensation system works as follow\n",
    "* Predict the ratings a given employee may give a course they have not taken\n",
    "* Predict ratings of all courses for all employees\n",
    "* Recommend the courses that have the top predicted ratings"
   ]
  },
  {
   "cell_type": "markdown",
   "metadata": {},
   "source": [
    "markdown explaining the modeling process"
   ]
  },
  {
   "cell_type": "code",
   "execution_count": 10,
   "metadata": {},
   "outputs": [],
   "source": [
    "ratings_train, ratings_test =train_test_split(ratings_df, test_size=0.1)"
   ]
  },
  {
   "cell_type": "code",
   "execution_count": 11,
   "metadata": {},
   "outputs": [
    {
     "name": "stdout",
     "output_type": "stream",
     "text": [
      "Model: \"model\"\n",
      "__________________________________________________________________________________________________\n",
      " Layer (type)                Output Shape                 Param #   Connected to                  \n",
      "==================================================================================================\n",
      " Emp-Input (InputLayer)      [(None, 1)]                  0         []                            \n",
      "                                                                                                  \n",
      " Course-Input (InputLayer)   [(None, 1)]                  0         []                            \n",
      "                                                                                                  \n",
      " Emp-Embedding (Embedding)   (None, 1, 5)                 10005     ['Emp-Input[0][0]']           \n",
      "                                                                                                  \n",
      " Course-Embedding (Embeddin  (None, 1, 5)                 130       ['Course-Input[0][0]']        \n",
      " g)                                                                                               \n",
      "                                                                                                  \n",
      " Emp-Flatten (Flatten)       (None, 5)                    0         ['Emp-Embedding[0][0]']       \n",
      "                                                                                                  \n",
      " Course-Flatten (Flatten)    (None, 5)                    0         ['Course-Embedding[0][0]']    \n",
      "                                                                                                  \n",
      " concatenate (Concatenate)   (None, 10)                   0         ['Emp-Flatten[0][0]',         \n",
      "                                                                     'Course-Flatten[0][0]']      \n",
      "                                                                                                  \n",
      " dense (Dense)               (None, 128)                  1408      ['concatenate[0][0]']         \n",
      "                                                                                                  \n",
      " dense_1 (Dense)             (None, 32)                   4128      ['dense[0][0]']               \n",
      "                                                                                                  \n",
      " dense_2 (Dense)             (None, 1)                    33        ['dense_1[0][0]']             \n",
      "                                                                                                  \n",
      "==================================================================================================\n",
      "Total params: 15704 (61.34 KB)\n",
      "Trainable params: 15704 (61.34 KB)\n",
      "Non-trainable params: 0 (0.00 Byte)\n",
      "__________________________________________________________________________________________________\n",
      "Fitting the model:\n",
      "Epoch 1/25\n"
     ]
    },
    {
     "name": "stderr",
     "output_type": "stream",
     "text": [
      "/Users/dermotobrien/opt/anaconda3/envs/main-env/lib/python3.10/site-packages/keras/src/engine/data_adapter.py:1798: FutureWarning: The behavior of `series[i:j]` with an integer-dtype index is deprecated. In a future version, this will be treated as *label-based* indexing, consistent with e.g. `series[i]` lookups. To retain the old behavior, use `series.iloc[i:j]`. To get the future behavior, use `series.loc[i:j]`.\n",
      "  return t[start:end]\n"
     ]
    },
    {
     "name": "stdout",
     "output_type": "stream",
     "text": [
      "26/26 [==============================] - 1s 10ms/step - loss: 8.1623 - val_loss: 5.5552\n",
      "Epoch 2/25\n",
      "26/26 [==============================] - 0s 3ms/step - loss: 3.5308 - val_loss: 1.6082\n",
      "Epoch 3/25\n",
      "26/26 [==============================] - 0s 3ms/step - loss: 1.8070 - val_loss: 1.5871\n",
      "Epoch 4/25\n",
      "26/26 [==============================] - 0s 2ms/step - loss: 1.6165 - val_loss: 1.6171\n",
      "Epoch 5/25\n",
      "26/26 [==============================] - 0s 2ms/step - loss: 1.3732 - val_loss: 1.6783\n",
      "Epoch 6/25\n",
      "26/26 [==============================] - 0s 3ms/step - loss: 1.0656 - val_loss: 1.7866\n",
      "Epoch 7/25\n",
      "26/26 [==============================] - 0s 3ms/step - loss: 0.7895 - val_loss: 1.9719\n",
      "Epoch 8/25\n",
      "26/26 [==============================] - 0s 3ms/step - loss: 0.6473 - val_loss: 2.1292\n",
      "Epoch 9/25\n",
      "26/26 [==============================] - 0s 2ms/step - loss: 0.5644 - val_loss: 2.2154\n",
      "Epoch 10/25\n",
      "26/26 [==============================] - 0s 2ms/step - loss: 0.5258 - val_loss: 2.3212\n",
      "Epoch 11/25\n",
      "26/26 [==============================] - 0s 2ms/step - loss: 0.5007 - val_loss: 2.2852\n",
      "Epoch 12/25\n",
      "26/26 [==============================] - 0s 2ms/step - loss: 0.4874 - val_loss: 2.3654\n",
      "Epoch 13/25\n",
      "26/26 [==============================] - 0s 2ms/step - loss: 0.4690 - val_loss: 2.3489\n",
      "Epoch 14/25\n",
      "26/26 [==============================] - 0s 2ms/step - loss: 0.4663 - val_loss: 2.3909\n",
      "Epoch 15/25\n",
      "26/26 [==============================] - 0s 2ms/step - loss: 0.4571 - val_loss: 2.4299\n",
      "Epoch 16/25\n",
      "26/26 [==============================] - 0s 2ms/step - loss: 0.4594 - val_loss: 2.4285\n",
      "Epoch 17/25\n",
      "26/26 [==============================] - 0s 2ms/step - loss: 0.4529 - val_loss: 2.4816\n",
      "Epoch 18/25\n",
      "26/26 [==============================] - 0s 2ms/step - loss: 0.4543 - val_loss: 2.4874\n",
      "Epoch 19/25\n",
      "26/26 [==============================] - 0s 2ms/step - loss: 0.4448 - val_loss: 2.4416\n",
      "Epoch 20/25\n",
      "26/26 [==============================] - 0s 2ms/step - loss: 0.4513 - val_loss: 2.5294\n",
      "Epoch 21/25\n",
      "26/26 [==============================] - 0s 2ms/step - loss: 0.4422 - val_loss: 2.5267\n",
      "Epoch 22/25\n",
      "26/26 [==============================] - 0s 2ms/step - loss: 0.4391 - val_loss: 2.5024\n",
      "Epoch 23/25\n",
      "26/26 [==============================] - 0s 2ms/step - loss: 0.4328 - val_loss: 2.5248\n",
      "Epoch 24/25\n",
      "26/26 [==============================] - 0s 2ms/step - loss: 0.4328 - val_loss: 2.5823\n",
      "Epoch 25/25\n",
      "26/26 [==============================] - 0s 2ms/step - loss: 0.4357 - val_loss: 2.5496\n",
      "Evaluating the model:\n",
      "4/4 [==============================] - 0s 2ms/step - loss: 2.5479\n"
     ]
    },
    {
     "data": {
      "text/plain": [
       "2.5479085445404053"
      ]
     },
     "execution_count": 11,
     "metadata": {},
     "output_type": "execute_result"
    }
   ],
   "source": [
    "# add fully connected layers\n",
    "fc_layer1 = Dense(128, activation=\"relu\")(merged_vec)\n",
    "fc_layer2 = Dense(32, activation=\"relu\")(fc_layer1)\n",
    "model_output = Dense(1)(fc_layer2)\n",
    "\n",
    "rating_model = Model([emp_input, course_input], model_output)\n",
    "\n",
    "rating_model.compile(optimizer=\"adam\", loss=\"mean_squared_error\")\n",
    "\n",
    "rating_model.summary()\n",
    "\n",
    "print(\"Fitting the model:\")\n",
    "\n",
    "#Fit the model\n",
    "model_fit = rating_model.fit(\n",
    "    x=[ratings_train.EmployeeID, ratings_train.CourseID],\n",
    "    y=ratings_train.Rating,\n",
    "    epochs=25,\n",
    "    verbose=1,\n",
    "    validation_split=0.1\n",
    "    )\n",
    "\n",
    "print(\"Evaluating the model:\")\n",
    "rating_model.evaluate(\n",
    "    x=[ratings_test.EmployeeID, ratings_test.CourseID],\n",
    "    y=ratings_test.Rating)"
   ]
  },
  {
   "cell_type": "markdown",
   "metadata": {},
   "source": [
    "## Rating Predictions"
   ]
  },
  {
   "cell_type": "code",
   "execution_count": 12,
   "metadata": {},
   "outputs": [
    {
     "name": "stdout",
     "output_type": "stream",
     "text": [
      "1/1 [==============================] - 0s 102ms/step\n"
     ]
    },
    {
     "data": {
      "text/plain": [
       "array([[3.524244]], dtype=float32)"
      ]
     },
     "execution_count": 12,
     "metadata": {},
     "output_type": "execute_result"
    }
   ],
   "source": [
    "# predicting the Rating for a given employee and a course\n",
    "# for employee 1029 and course 8\n",
    "\n",
    "rating_model.predict(\n",
    "    [pd.Series([1029]),\n",
    "     pd.Series([8])])"
   ]
  },
  {
   "cell_type": "markdown",
   "metadata": {},
   "source": [
    "Course Recommendations"
   ]
  },
  {
   "cell_type": "markdown",
   "metadata": {},
   "source": [
    "For an example, let's recommend a list of courses for an employee, Harriot Laflin"
   ]
  },
  {
   "cell_type": "code",
   "execution_count": null,
   "metadata": {},
   "outputs": [],
   "source": [
    "emp_to_predict = \"Harriot Laflin\"\n",
    "\n",
    "# get employee ID for the employee name\n",
    "pred_emp_id = emp_list[emp_list['EmpName'] == emp_to_predict][\"EmployeeID\"].iloc[0]\n",
    "\n",
    "# find Courses already taken by employee. We dont want to predict those.\n",
    "completed_courses = ratings_df[\n",
    "                    ratings_df[\"EmployeeID\"] == pred_emp_id][\"CourseID\"].unique()\n",
    "\n",
    "# courses not taken by employee\n",
    "new_courses = course_list.query(\"CourseID not in @completed_courses\")[\"CourseID\"]\n",
    "\n",
    "# Create a list with the same employee ID repeated for the same number of times as the\n",
    "# number of new courses. This provides the employee and course Series with same size\n",
    "emp_dummy_list = pd.Series(np.array([pred_emp_id for i in range(len(new_courses))]))\n",
    "\n",
    "# Predict ratings for the new courses for this employee\n",
    "projected_ratings = rating_model.predict([emp_dummy_list, new_courses])\n",
    "flat_ratings = np.array([x[0] for x in projected_ratings])\n",
    "\n",
    "print(\"Course Ratings: \", flat_ratings)\n",
    "\n",
    "#Recommend top 5 courses\n",
    "print(\"\\nRating  CourseID CourseName\\n-----------------------------------\")\n",
    "for idx in (-flat_ratings).argsort()[:5]:\n",
    "    course_id = new_courses.iloc[idx]\n",
    "    course_name = course_list.query(\"CourseID == @course_id\")[\"CourseName\"].iloc[0]\n",
    "    print(\" \", round(flat_ratings[idx],1),\"    \", course_id, \"   \", course_name)"
   ]
  },
  {
   "cell_type": "code",
   "execution_count": null,
   "metadata": {},
   "outputs": [],
   "source": []
  },
  {
   "cell_type": "code",
   "execution_count": null,
   "metadata": {},
   "outputs": [],
   "source": []
  },
  {
   "cell_type": "markdown",
   "metadata": {},
   "source": [
    "## Evaluation\n",
    "Evaluate how well your work solves the stated business problem.\n",
    "\n",
    "***\n",
    "Questions to consider:\n",
    "* How do you interpret the results?\n",
    "* How well does your model fit your data? How much better is this than your baseline model?\n",
    "* How confident are you that your results would generalize beyond the data you have?\n",
    "* How confident are you that this model would benefit the business if put into use?\n",
    "***"
   ]
  },
  {
   "cell_type": "markdown",
   "metadata": {},
   "source": [
    "## Conclusions\n",
    "Provide your conclusions about the work you've done, including any limitations or next steps.\n",
    "\n",
    "***\n",
    "Questions to consider:\n",
    "* What would you recommend the business do as a result of this work?\n",
    "* What are some reasons why your analysis might not fully solve the business problem?\n",
    "* What else could you do in the future to improve this project?\n",
    "***"
   ]
  }
 ],
 "metadata": {
  "kernelspec": {
   "display_name": "Python 3 (ipykernel)",
   "language": "python",
   "name": "python3"
  },
  "language_info": {
   "codemirror_mode": {
    "name": "ipython",
    "version": 3
   },
   "file_extension": ".py",
   "mimetype": "text/x-python",
   "name": "python",
   "nbconvert_exporter": "python",
   "pygments_lexer": "ipython3",
   "version": "3.10.8"
  }
 },
 "nbformat": 4,
 "nbformat_minor": 4
}
